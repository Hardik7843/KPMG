{
 "cells": [
  {
   "cell_type": "code",
   "execution_count": 1,
   "metadata": {
    "colab": {
     "base_uri": "https://localhost:8080/",
     "height": 73
    },
    "id": "9DdveB31aOYs",
    "outputId": "a15300e2-7ec4-45cf-d778-7d88452ff1a0"
   },
   "outputs": [
    {
     "ename": "ModuleNotFoundError",
     "evalue": "No module named 'google.colab'",
     "output_type": "error",
     "traceback": [
      "\u001b[1;31m---------------------------------------------------------------------------\u001b[0m",
      "\u001b[1;31mModuleNotFoundError\u001b[0m                       Traceback (most recent call last)",
      "Cell \u001b[1;32mIn[1], line 1\u001b[0m\n\u001b[1;32m----> 1\u001b[0m \u001b[38;5;28;01mfrom\u001b[39;00m \u001b[38;5;21;01mgoogle\u001b[39;00m\u001b[38;5;21;01m.\u001b[39;00m\u001b[38;5;21;01mcolab\u001b[39;00m \u001b[38;5;28;01mimport\u001b[39;00m files\n\u001b[0;32m      2\u001b[0m upl \u001b[38;5;241m=\u001b[39m files\u001b[38;5;241m.\u001b[39mupload()\n",
      "\u001b[1;31mModuleNotFoundError\u001b[0m: No module named 'google.colab'"
     ]
    }
   ],
   "source": [
    "from google.colab import files\n",
    "upl = files.upload()"
   ]
  },
  {
   "cell_type": "code",
   "execution_count": 5,
   "metadata": {},
   "outputs": [
    {
     "name": "stdout",
     "output_type": "stream",
     "text": [
      "Collecting pandasNote: you may need to restart the kernel to use updated packages.\n",
      "\n",
      "  Downloading pandas-1.5.3-cp311-cp311-win_amd64.whl (10.3 MB)\n",
      "     ---------------------------------------- 0.0/10.3 MB ? eta -:--:--\n",
      "      --------------------------------------- 0.2/10.3 MB 10.2 MB/s eta 0:00:01\n",
      "      --------------------------------------- 0.2/10.3 MB 4.0 MB/s eta 0:00:03\n",
      "      --------------------------------------- 0.2/10.3 MB 2.1 MB/s eta 0:00:05\n",
      "      --------------------------------------- 0.2/10.3 MB 1.7 MB/s eta 0:00:06\n",
      "     - -------------------------------------- 0.4/10.3 MB 1.9 MB/s eta 0:00:06\n",
      "     - -------------------------------------- 0.4/10.3 MB 1.7 MB/s eta 0:00:06\n",
      "     -- ------------------------------------- 0.5/10.3 MB 1.7 MB/s eta 0:00:06\n",
      "     -- ------------------------------------- 0.6/10.3 MB 1.7 MB/s eta 0:00:06\n",
      "     -- ------------------------------------- 0.6/10.3 MB 1.6 MB/s eta 0:00:07\n",
      "     -- ------------------------------------- 0.7/10.3 MB 1.6 MB/s eta 0:00:07\n",
      "     -- ------------------------------------- 0.7/10.3 MB 1.5 MB/s eta 0:00:07\n",
      "     -- ------------------------------------- 0.8/10.3 MB 1.5 MB/s eta 0:00:07\n",
      "     --- ------------------------------------ 0.9/10.3 MB 1.4 MB/s eta 0:00:07\n",
      "     --- ------------------------------------ 0.9/10.3 MB 1.4 MB/s eta 0:00:07\n",
      "     --- ------------------------------------ 1.0/10.3 MB 1.4 MB/s eta 0:00:07\n",
      "     ---- ----------------------------------- 1.0/10.3 MB 1.4 MB/s eta 0:00:07\n",
      "     ---- ----------------------------------- 1.1/10.3 MB 1.4 MB/s eta 0:00:07\n",
      "     ---- ----------------------------------- 1.1/10.3 MB 1.4 MB/s eta 0:00:07\n",
      "     ---- ----------------------------------- 1.1/10.3 MB 1.3 MB/s eta 0:00:08\n",
      "     ---- ----------------------------------- 1.2/10.3 MB 1.3 MB/s eta 0:00:08\n",
      "     ---- ----------------------------------- 1.3/10.3 MB 1.3 MB/s eta 0:00:08\n",
      "     ----- ---------------------------------- 1.3/10.3 MB 1.3 MB/s eta 0:00:07\n",
      "     ----- ---------------------------------- 1.4/10.3 MB 1.3 MB/s eta 0:00:07\n",
      "     ----- ---------------------------------- 1.5/10.3 MB 1.3 MB/s eta 0:00:07\n",
      "     ------ --------------------------------- 1.5/10.3 MB 1.3 MB/s eta 0:00:07\n",
      "     ------ --------------------------------- 1.6/10.3 MB 1.3 MB/s eta 0:00:07\n",
      "     ------ --------------------------------- 1.7/10.3 MB 1.3 MB/s eta 0:00:07\n",
      "     ------ --------------------------------- 1.7/10.3 MB 1.4 MB/s eta 0:00:07\n",
      "     ------ --------------------------------- 1.8/10.3 MB 1.3 MB/s eta 0:00:07\n",
      "     ------- -------------------------------- 1.8/10.3 MB 1.3 MB/s eta 0:00:07\n",
      "     ------- -------------------------------- 1.9/10.3 MB 1.3 MB/s eta 0:00:07\n",
      "     ------- -------------------------------- 2.0/10.3 MB 1.3 MB/s eta 0:00:07\n",
      "     ------- -------------------------------- 2.0/10.3 MB 1.3 MB/s eta 0:00:07\n",
      "     -------- ------------------------------- 2.1/10.3 MB 1.3 MB/s eta 0:00:07\n",
      "     -------- ------------------------------- 2.1/10.3 MB 1.3 MB/s eta 0:00:07\n",
      "     -------- ------------------------------- 2.2/10.3 MB 1.3 MB/s eta 0:00:07\n",
      "     -------- ------------------------------- 2.3/10.3 MB 1.3 MB/s eta 0:00:07\n",
      "     --------- ------------------------------ 2.3/10.3 MB 1.3 MB/s eta 0:00:07\n",
      "     --------- ------------------------------ 2.4/10.3 MB 1.3 MB/s eta 0:00:07\n",
      "     --------- ------------------------------ 2.5/10.3 MB 1.3 MB/s eta 0:00:06\n",
      "     --------- ------------------------------ 2.5/10.3 MB 1.3 MB/s eta 0:00:06\n",
      "     --------- ------------------------------ 2.6/10.3 MB 1.3 MB/s eta 0:00:06\n",
      "     ---------- ----------------------------- 2.6/10.3 MB 1.3 MB/s eta 0:00:06\n",
      "     ---------- ----------------------------- 2.7/10.3 MB 1.3 MB/s eta 0:00:06\n",
      "     ---------- ----------------------------- 2.7/10.3 MB 1.3 MB/s eta 0:00:06\n",
      "     ---------- ----------------------------- 2.8/10.3 MB 1.3 MB/s eta 0:00:06\n",
      "     ---------- ----------------------------- 2.8/10.3 MB 1.3 MB/s eta 0:00:06\n",
      "     ----------- ---------------------------- 2.9/10.3 MB 1.3 MB/s eta 0:00:06\n",
      "     ----------- ---------------------------- 3.0/10.3 MB 1.3 MB/s eta 0:00:06\n",
      "     ----------- ---------------------------- 3.0/10.3 MB 1.3 MB/s eta 0:00:06\n",
      "     ------------ --------------------------- 3.1/10.3 MB 1.3 MB/s eta 0:00:06\n",
      "     ------------ --------------------------- 3.2/10.3 MB 1.3 MB/s eta 0:00:06\n",
      "     ------------ --------------------------- 3.2/10.3 MB 1.3 MB/s eta 0:00:06\n",
      "     ------------ --------------------------- 3.3/10.3 MB 1.3 MB/s eta 0:00:06\n",
      "     ------------- -------------------------- 3.4/10.3 MB 1.3 MB/s eta 0:00:06\n",
      "     ------------- -------------------------- 3.4/10.3 MB 1.3 MB/s eta 0:00:06\n",
      "     ------------- -------------------------- 3.5/10.3 MB 1.3 MB/s eta 0:00:06\n",
      "     ------------- -------------------------- 3.5/10.3 MB 1.3 MB/s eta 0:00:06\n",
      "     ------------- -------------------------- 3.6/10.3 MB 1.3 MB/s eta 0:00:06\n",
      "     -------------- ------------------------- 3.6/10.3 MB 1.3 MB/s eta 0:00:06\n",
      "     -------------- ------------------------- 3.7/10.3 MB 1.3 MB/s eta 0:00:06\n",
      "     -------------- ------------------------- 3.8/10.3 MB 1.3 MB/s eta 0:00:06\n",
      "     -------------- ------------------------- 3.8/10.3 MB 1.3 MB/s eta 0:00:06\n",
      "     --------------- ------------------------ 3.9/10.3 MB 1.3 MB/s eta 0:00:05\n",
      "     --------------- ------------------------ 3.9/10.3 MB 1.3 MB/s eta 0:00:05\n",
      "     --------------- ------------------------ 4.0/10.3 MB 1.3 MB/s eta 0:00:05\n",
      "     --------------- ------------------------ 4.1/10.3 MB 1.3 MB/s eta 0:00:05\n",
      "     --------------- ------------------------ 4.1/10.3 MB 1.3 MB/s eta 0:00:05\n",
      "     ---------------- ----------------------- 4.2/10.3 MB 1.3 MB/s eta 0:00:05\n",
      "     ---------------- ----------------------- 4.2/10.3 MB 1.3 MB/s eta 0:00:05\n",
      "     ---------------- ----------------------- 4.3/10.3 MB 1.3 MB/s eta 0:00:05\n",
      "     ---------------- ----------------------- 4.3/10.3 MB 1.3 MB/s eta 0:00:05\n",
      "     ----------------- ---------------------- 4.4/10.3 MB 1.3 MB/s eta 0:00:05\n",
      "     ----------------- ---------------------- 4.5/10.3 MB 1.3 MB/s eta 0:00:05\n",
      "     ----------------- ---------------------- 4.5/10.3 MB 1.3 MB/s eta 0:00:05\n",
      "     ----------------- ---------------------- 4.6/10.3 MB 1.3 MB/s eta 0:00:05\n",
      "     ------------------ --------------------- 4.6/10.3 MB 1.3 MB/s eta 0:00:05\n",
      "     ------------------ --------------------- 4.7/10.3 MB 1.3 MB/s eta 0:00:05\n",
      "     ------------------ --------------------- 4.8/10.3 MB 1.3 MB/s eta 0:00:05\n",
      "     ------------------ --------------------- 4.8/10.3 MB 1.3 MB/s eta 0:00:05\n",
      "     ------------------ --------------------- 4.9/10.3 MB 1.3 MB/s eta 0:00:05\n",
      "     ------------------- -------------------- 4.9/10.3 MB 1.3 MB/s eta 0:00:05\n",
      "     ------------------- -------------------- 5.0/10.3 MB 1.3 MB/s eta 0:00:05\n",
      "     ------------------- -------------------- 5.1/10.3 MB 1.3 MB/s eta 0:00:05\n",
      "     ------------------- -------------------- 5.1/10.3 MB 1.3 MB/s eta 0:00:05\n",
      "     -------------------- ------------------- 5.2/10.3 MB 1.3 MB/s eta 0:00:05\n",
      "     -------------------- ------------------- 5.2/10.3 MB 1.3 MB/s eta 0:00:04\n",
      "     -------------------- ------------------- 5.3/10.3 MB 1.3 MB/s eta 0:00:04\n",
      "     -------------------- ------------------- 5.4/10.3 MB 1.3 MB/s eta 0:00:04\n",
      "     --------------------- ------------------ 5.4/10.3 MB 1.3 MB/s eta 0:00:04\n",
      "     --------------------- ------------------ 5.5/10.3 MB 1.3 MB/s eta 0:00:04\n",
      "     --------------------- ------------------ 5.5/10.3 MB 1.3 MB/s eta 0:00:04\n",
      "     --------------------- ------------------ 5.6/10.3 MB 1.3 MB/s eta 0:00:04\n",
      "     --------------------- ------------------ 5.6/10.3 MB 1.3 MB/s eta 0:00:04\n",
      "     ---------------------- ----------------- 5.7/10.3 MB 1.3 MB/s eta 0:00:04\n",
      "     ---------------------- ----------------- 5.8/10.3 MB 1.3 MB/s eta 0:00:04\n",
      "     ---------------------- ----------------- 5.8/10.3 MB 1.3 MB/s eta 0:00:04\n",
      "     ---------------------- ----------------- 5.9/10.3 MB 1.3 MB/s eta 0:00:04\n",
      "     ----------------------- ---------------- 5.9/10.3 MB 1.3 MB/s eta 0:00:04\n",
      "     ----------------------- ---------------- 6.0/10.3 MB 1.3 MB/s eta 0:00:04\n",
      "     ----------------------- ---------------- 6.1/10.3 MB 1.3 MB/s eta 0:00:04\n",
      "     ----------------------- ---------------- 6.1/10.3 MB 1.3 MB/s eta 0:00:04\n",
      "     ------------------------ --------------- 6.2/10.3 MB 1.3 MB/s eta 0:00:04\n",
      "     ------------------------ --------------- 6.2/10.3 MB 1.3 MB/s eta 0:00:04\n",
      "     ------------------------ --------------- 6.3/10.3 MB 1.3 MB/s eta 0:00:04\n",
      "     ------------------------ --------------- 6.4/10.3 MB 1.3 MB/s eta 0:00:04\n",
      "     ------------------------ --------------- 6.4/10.3 MB 1.3 MB/s eta 0:00:04\n",
      "     ------------------------- -------------- 6.5/10.3 MB 1.3 MB/s eta 0:00:03\n",
      "     ------------------------- -------------- 6.5/10.3 MB 1.3 MB/s eta 0:00:03\n",
      "     ------------------------- -------------- 6.6/10.3 MB 1.3 MB/s eta 0:00:03\n",
      "     ------------------------- -------------- 6.7/10.3 MB 1.3 MB/s eta 0:00:03\n",
      "     -------------------------- ------------- 6.7/10.3 MB 1.3 MB/s eta 0:00:03\n",
      "     -------------------------- ------------- 6.8/10.3 MB 1.3 MB/s eta 0:00:03\n",
      "     -------------------------- ------------- 6.8/10.3 MB 1.3 MB/s eta 0:00:03\n",
      "     -------------------------- ------------- 6.9/10.3 MB 1.3 MB/s eta 0:00:03\n",
      "     -------------------------- ------------- 6.9/10.3 MB 1.3 MB/s eta 0:00:03\n",
      "     --------------------------- ------------ 7.0/10.3 MB 1.3 MB/s eta 0:00:03\n",
      "     --------------------------- ------------ 7.0/10.3 MB 1.3 MB/s eta 0:00:03\n",
      "     --------------------------- ------------ 7.1/10.3 MB 1.3 MB/s eta 0:00:03\n",
      "     --------------------------- ------------ 7.2/10.3 MB 1.3 MB/s eta 0:00:03\n",
      "     ---------------------------- ----------- 7.2/10.3 MB 1.3 MB/s eta 0:00:03\n",
      "     ---------------------------- ----------- 7.3/10.3 MB 1.3 MB/s eta 0:00:03\n",
      "     ---------------------------- ----------- 7.4/10.3 MB 1.3 MB/s eta 0:00:03\n",
      "     ---------------------------- ----------- 7.4/10.3 MB 1.3 MB/s eta 0:00:03\n",
      "     ---------------------------- ----------- 7.5/10.3 MB 1.3 MB/s eta 0:00:03\n",
      "     ----------------------------- ---------- 7.5/10.3 MB 1.3 MB/s eta 0:00:03\n",
      "     ----------------------------- ---------- 7.6/10.3 MB 1.3 MB/s eta 0:00:03\n",
      "     ----------------------------- ---------- 7.6/10.3 MB 1.3 MB/s eta 0:00:03\n",
      "     ----------------------------- ---------- 7.7/10.3 MB 1.3 MB/s eta 0:00:03\n",
      "     ------------------------------ --------- 7.8/10.3 MB 1.3 MB/s eta 0:00:02\n",
      "     ------------------------------ --------- 7.8/10.3 MB 1.3 MB/s eta 0:00:02\n",
      "     ------------------------------ --------- 7.9/10.3 MB 1.3 MB/s eta 0:00:02\n",
      "     ------------------------------ --------- 7.9/10.3 MB 1.3 MB/s eta 0:00:02\n",
      "     ------------------------------- -------- 8.0/10.3 MB 1.3 MB/s eta 0:00:02\n",
      "     ------------------------------- -------- 8.1/10.3 MB 1.3 MB/s eta 0:00:02\n",
      "     ------------------------------- -------- 8.1/10.3 MB 1.3 MB/s eta 0:00:02\n",
      "     ------------------------------- -------- 8.2/10.3 MB 1.3 MB/s eta 0:00:02\n",
      "     ------------------------------- -------- 8.2/10.3 MB 1.3 MB/s eta 0:00:02\n",
      "     -------------------------------- ------- 8.3/10.3 MB 1.3 MB/s eta 0:00:02\n",
      "     -------------------------------- ------- 8.4/10.3 MB 1.3 MB/s eta 0:00:02\n",
      "     -------------------------------- ------- 8.4/10.3 MB 1.3 MB/s eta 0:00:02\n",
      "     -------------------------------- ------- 8.5/10.3 MB 1.3 MB/s eta 0:00:02\n",
      "     --------------------------------- ------ 8.5/10.3 MB 1.3 MB/s eta 0:00:02\n",
      "     --------------------------------- ------ 8.6/10.3 MB 1.3 MB/s eta 0:00:02\n",
      "     --------------------------------- ------ 8.6/10.3 MB 1.3 MB/s eta 0:00:02\n",
      "     --------------------------------- ------ 8.7/10.3 MB 1.3 MB/s eta 0:00:02\n",
      "     ---------------------------------- ----- 8.8/10.3 MB 1.3 MB/s eta 0:00:02\n",
      "     ---------------------------------- ----- 8.8/10.3 MB 1.3 MB/s eta 0:00:02\n",
      "     ---------------------------------- ----- 8.9/10.3 MB 1.3 MB/s eta 0:00:02\n",
      "     ---------------------------------- ----- 8.9/10.3 MB 1.3 MB/s eta 0:00:02\n",
      "     ---------------------------------- ----- 9.0/10.3 MB 1.3 MB/s eta 0:00:02\n",
      "     ----------------------------------- ---- 9.0/10.3 MB 1.3 MB/s eta 0:00:02\n",
      "     ----------------------------------- ---- 9.1/10.3 MB 1.3 MB/s eta 0:00:01\n",
      "     ----------------------------------- ---- 9.2/10.3 MB 1.3 MB/s eta 0:00:01\n",
      "     ----------------------------------- ---- 9.2/10.3 MB 1.3 MB/s eta 0:00:01\n",
      "     ------------------------------------ --- 9.3/10.3 MB 1.3 MB/s eta 0:00:01\n",
      "     ------------------------------------ --- 9.4/10.3 MB 1.3 MB/s eta 0:00:01\n",
      "     ------------------------------------ --- 9.4/10.3 MB 1.3 MB/s eta 0:00:01\n",
      "     ------------------------------------ --- 9.5/10.3 MB 1.3 MB/s eta 0:00:01\n",
      "     ------------------------------------- -- 9.5/10.3 MB 1.3 MB/s eta 0:00:01\n",
      "     ------------------------------------- -- 9.6/10.3 MB 1.3 MB/s eta 0:00:01\n",
      "     ------------------------------------- -- 9.7/10.3 MB 1.3 MB/s eta 0:00:01\n",
      "     ------------------------------------- -- 9.7/10.3 MB 1.3 MB/s eta 0:00:01\n",
      "     ------------------------------------- -- 9.7/10.3 MB 1.3 MB/s eta 0:00:01\n",
      "     ------------------------------------- -- 9.8/10.3 MB 1.3 MB/s eta 0:00:01\n",
      "     -------------------------------------- - 9.9/10.3 MB 1.3 MB/s eta 0:00:01\n",
      "     -------------------------------------- - 9.9/10.3 MB 1.3 MB/s eta 0:00:01\n",
      "     -------------------------------------- - 10.0/10.3 MB 1.3 MB/s eta 0:00:01\n",
      "     -------------------------------------- - 10.0/10.3 MB 1.3 MB/s eta 0:00:01\n",
      "     ---------------------------------------  10.1/10.3 MB 1.3 MB/s eta 0:00:01\n",
      "     ---------------------------------------  10.1/10.3 MB 1.3 MB/s eta 0:00:01\n",
      "     ---------------------------------------  10.2/10.3 MB 1.3 MB/s eta 0:00:01\n",
      "     ---------------------------------------  10.3/10.3 MB 1.3 MB/s eta 0:00:01\n",
      "     ---------------------------------------  10.3/10.3 MB 1.3 MB/s eta 0:00:01\n",
      "     ---------------------------------------- 10.3/10.3 MB 1.2 MB/s eta 0:00:00\n",
      "Requirement already satisfied: python-dateutil>=2.8.1 in c:\\python311\\lib\\site-packages (from pandas) (2.8.2)\n",
      "Collecting pytz>=2020.1\n",
      "  Downloading pytz-2023.2-py2.py3-none-any.whl (502 kB)\n",
      "     ---------------------------------------- 0.0/502.1 kB ? eta -:--:--\n",
      "     ----- --------------------------------- 71.7/502.1 kB 1.9 MB/s eta 0:00:01\n",
      "     ---------- --------------------------- 143.4/502.1 kB 1.7 MB/s eta 0:00:01\n",
      "     ----------- -------------------------- 153.6/502.1 kB 1.1 MB/s eta 0:00:01\n",
      "     -------------- ----------------------- 194.6/502.1 kB 1.3 MB/s eta 0:00:01\n",
      "     -------------- ----------------------- 194.6/502.1 kB 1.3 MB/s eta 0:00:01\n",
      "     ------------------------- ------------ 337.9/502.1 kB 1.2 MB/s eta 0:00:01\n",
      "     ----------------------------- -------- 389.1/502.1 kB 1.3 MB/s eta 0:00:01\n",
      "     ------------------------------- ------ 419.8/502.1 kB 1.2 MB/s eta 0:00:01\n",
      "     ---------------------------------- --- 450.6/502.1 kB 1.2 MB/s eta 0:00:01\n",
      "     -------------------------------------- 502.1/502.1 kB 1.1 MB/s eta 0:00:00\n",
      "Requirement already satisfied: numpy>=1.21.0 in c:\\python311\\lib\\site-packages (from pandas) (1.24.1)\n",
      "Requirement already satisfied: six>=1.5 in c:\\users\\hardi\\appdata\\roaming\\python\\python311\\site-packages (from python-dateutil>=2.8.1->pandas) (1.16.0)\n",
      "Installing collected packages: pytz, pandas\n",
      "Successfully installed pandas-1.5.3 pytz-2023.2\n"
     ]
    },
    {
     "name": "stderr",
     "output_type": "stream",
     "text": [
      "\n",
      "[notice] A new release of pip is available: 23.0 -> 23.0.1\n",
      "[notice] To update, run: python.exe -m pip install --upgrade pip\n"
     ]
    }
   ],
   "source": [
    "pip install pandas"
   ]
  },
  {
   "cell_type": "code",
   "execution_count": 4,
   "metadata": {
    "id": "Iq3AnNZIa71s"
   },
   "outputs": [
    {
     "ename": "ModuleNotFoundError",
     "evalue": "No module named 'pandas'",
     "output_type": "error",
     "traceback": [
      "\u001b[1;31m---------------------------------------------------------------------------\u001b[0m",
      "\u001b[1;31mModuleNotFoundError\u001b[0m                       Traceback (most recent call last)",
      "Cell \u001b[1;32mIn[4], line 2\u001b[0m\n\u001b[0;32m      1\u001b[0m \u001b[38;5;28;01mimport\u001b[39;00m \u001b[38;5;21;01mnumpy\u001b[39;00m \u001b[38;5;28;01mas\u001b[39;00m \u001b[38;5;21;01mnp\u001b[39;00m\n\u001b[1;32m----> 2\u001b[0m \u001b[38;5;28;01mimport\u001b[39;00m \u001b[38;5;21;01mpandas\u001b[39;00m \u001b[38;5;28;01mas\u001b[39;00m \u001b[38;5;21;01mpd\u001b[39;00m\n\u001b[0;32m      3\u001b[0m \u001b[38;5;28;01mimport\u001b[39;00m \u001b[38;5;21;01mmatplotlib\u001b[39;00m \u001b[38;5;28;01mas\u001b[39;00m \u001b[38;5;21;01mplt\u001b[39;00m\n\u001b[0;32m      4\u001b[0m \u001b[38;5;28;01mimport\u001b[39;00m \u001b[38;5;21;01mseaborn\u001b[39;00m \u001b[38;5;28;01mas\u001b[39;00m \u001b[38;5;21;01msns\u001b[39;00m\n",
      "\u001b[1;31mModuleNotFoundError\u001b[0m: No module named 'pandas'"
     ]
    }
   ],
   "source": [
    "import numpy as np\n",
    "import pandas as pd\n",
    "import matplotlib as plt\n",
    "import seaborn as sns"
   ]
  },
  {
   "cell_type": "code",
   "execution_count": null,
   "metadata": {
    "id": "rCWfWgxqa7yM"
   },
   "outputs": [],
   "source": [
    "df = pd.read_excel(\"Transaction.xlsx\")"
   ]
  },
  {
   "cell_type": "code",
   "execution_count": null,
   "metadata": {
    "colab": {
     "base_uri": "https://localhost:8080/"
    },
    "id": "l-C4DTyvR7Af",
    "outputId": "7cc06c18-c7d0-40b0-a95c-0f4bfbcf7114"
   },
   "outputs": [
    {
     "data": {
      "text/plain": [
       "1.0    9829\n",
       "0.0    9811\n",
       "Name: online_order, dtype: int64"
      ]
     },
     "execution_count": 13,
     "metadata": {},
     "output_type": "execute_result"
    }
   ],
   "source": [
    "df['online_order'].value_counts()"
   ]
  },
  {
   "cell_type": "code",
   "execution_count": null,
   "metadata": {
    "colab": {
     "base_uri": "https://localhost:8080/",
     "height": 339
    },
    "id": "DhubKa6CjCB_",
    "outputId": "b5747ee4-2b4b-45a6-ed9f-e2c2f64f7f13"
   },
   "outputs": [
    {
     "data": {
      "text/html": [
       "\n",
       "  <div id=\"df-1b6e2888-5c66-4ad3-a693-e6b316ee11f7\">\n",
       "    <div class=\"colab-df-container\">\n",
       "      <div>\n",
       "<style scoped>\n",
       "    .dataframe tbody tr th:only-of-type {\n",
       "        vertical-align: middle;\n",
       "    }\n",
       "\n",
       "    .dataframe tbody tr th {\n",
       "        vertical-align: top;\n",
       "    }\n",
       "\n",
       "    .dataframe thead th {\n",
       "        text-align: right;\n",
       "    }\n",
       "</style>\n",
       "<table border=\"1\" class=\"dataframe\">\n",
       "  <thead>\n",
       "    <tr style=\"text-align: right;\">\n",
       "      <th></th>\n",
       "      <th>transaction_id</th>\n",
       "      <th>product_id</th>\n",
       "      <th>customer_id</th>\n",
       "      <th>transaction_date</th>\n",
       "      <th>online_order</th>\n",
       "      <th>order_status</th>\n",
       "      <th>brand</th>\n",
       "      <th>product_line</th>\n",
       "      <th>product_class</th>\n",
       "      <th>product_size</th>\n",
       "      <th>list_price</th>\n",
       "      <th>standard_cost</th>\n",
       "      <th>product_first_sold_date</th>\n",
       "    </tr>\n",
       "  </thead>\n",
       "  <tbody>\n",
       "    <tr>\n",
       "      <th>0</th>\n",
       "      <td>1</td>\n",
       "      <td>2</td>\n",
       "      <td>2950</td>\n",
       "      <td>2017-02-25</td>\n",
       "      <td>0.0</td>\n",
       "      <td>Approved</td>\n",
       "      <td>Solex</td>\n",
       "      <td>Standard</td>\n",
       "      <td>medium</td>\n",
       "      <td>medium</td>\n",
       "      <td>71.49</td>\n",
       "      <td>53.62</td>\n",
       "      <td>41245.0</td>\n",
       "    </tr>\n",
       "    <tr>\n",
       "      <th>1</th>\n",
       "      <td>2</td>\n",
       "      <td>3</td>\n",
       "      <td>3120</td>\n",
       "      <td>2017-05-21</td>\n",
       "      <td>1.0</td>\n",
       "      <td>Approved</td>\n",
       "      <td>Trek Bicycles</td>\n",
       "      <td>Standard</td>\n",
       "      <td>medium</td>\n",
       "      <td>large</td>\n",
       "      <td>2091.47</td>\n",
       "      <td>388.92</td>\n",
       "      <td>41701.0</td>\n",
       "    </tr>\n",
       "    <tr>\n",
       "      <th>2</th>\n",
       "      <td>3</td>\n",
       "      <td>37</td>\n",
       "      <td>402</td>\n",
       "      <td>2017-10-16</td>\n",
       "      <td>0.0</td>\n",
       "      <td>Approved</td>\n",
       "      <td>OHM Cycles</td>\n",
       "      <td>Standard</td>\n",
       "      <td>low</td>\n",
       "      <td>medium</td>\n",
       "      <td>1793.43</td>\n",
       "      <td>248.82</td>\n",
       "      <td>36361.0</td>\n",
       "    </tr>\n",
       "    <tr>\n",
       "      <th>3</th>\n",
       "      <td>4</td>\n",
       "      <td>88</td>\n",
       "      <td>3135</td>\n",
       "      <td>2017-08-31</td>\n",
       "      <td>0.0</td>\n",
       "      <td>Approved</td>\n",
       "      <td>Norco Bicycles</td>\n",
       "      <td>Standard</td>\n",
       "      <td>medium</td>\n",
       "      <td>medium</td>\n",
       "      <td>1198.46</td>\n",
       "      <td>381.10</td>\n",
       "      <td>36145.0</td>\n",
       "    </tr>\n",
       "    <tr>\n",
       "      <th>4</th>\n",
       "      <td>5</td>\n",
       "      <td>78</td>\n",
       "      <td>787</td>\n",
       "      <td>2017-10-01</td>\n",
       "      <td>1.0</td>\n",
       "      <td>Approved</td>\n",
       "      <td>Giant Bicycles</td>\n",
       "      <td>Standard</td>\n",
       "      <td>medium</td>\n",
       "      <td>large</td>\n",
       "      <td>1765.30</td>\n",
       "      <td>709.48</td>\n",
       "      <td>42226.0</td>\n",
       "    </tr>\n",
       "  </tbody>\n",
       "</table>\n",
       "</div>\n",
       "      <button class=\"colab-df-convert\" onclick=\"convertToInteractive('df-1b6e2888-5c66-4ad3-a693-e6b316ee11f7')\"\n",
       "              title=\"Convert this dataframe to an interactive table.\"\n",
       "              style=\"display:none;\">\n",
       "        \n",
       "  <svg xmlns=\"http://www.w3.org/2000/svg\" height=\"24px\"viewBox=\"0 0 24 24\"\n",
       "       width=\"24px\">\n",
       "    <path d=\"M0 0h24v24H0V0z\" fill=\"none\"/>\n",
       "    <path d=\"M18.56 5.44l.94 2.06.94-2.06 2.06-.94-2.06-.94-.94-2.06-.94 2.06-2.06.94zm-11 1L8.5 8.5l.94-2.06 2.06-.94-2.06-.94L8.5 2.5l-.94 2.06-2.06.94zm10 10l.94 2.06.94-2.06 2.06-.94-2.06-.94-.94-2.06-.94 2.06-2.06.94z\"/><path d=\"M17.41 7.96l-1.37-1.37c-.4-.4-.92-.59-1.43-.59-.52 0-1.04.2-1.43.59L10.3 9.45l-7.72 7.72c-.78.78-.78 2.05 0 2.83L4 21.41c.39.39.9.59 1.41.59.51 0 1.02-.2 1.41-.59l7.78-7.78 2.81-2.81c.8-.78.8-2.07 0-2.86zM5.41 20L4 18.59l7.72-7.72 1.47 1.35L5.41 20z\"/>\n",
       "  </svg>\n",
       "      </button>\n",
       "      \n",
       "  <style>\n",
       "    .colab-df-container {\n",
       "      display:flex;\n",
       "      flex-wrap:wrap;\n",
       "      gap: 12px;\n",
       "    }\n",
       "\n",
       "    .colab-df-convert {\n",
       "      background-color: #E8F0FE;\n",
       "      border: none;\n",
       "      border-radius: 50%;\n",
       "      cursor: pointer;\n",
       "      display: none;\n",
       "      fill: #1967D2;\n",
       "      height: 32px;\n",
       "      padding: 0 0 0 0;\n",
       "      width: 32px;\n",
       "    }\n",
       "\n",
       "    .colab-df-convert:hover {\n",
       "      background-color: #E2EBFA;\n",
       "      box-shadow: 0px 1px 2px rgba(60, 64, 67, 0.3), 0px 1px 3px 1px rgba(60, 64, 67, 0.15);\n",
       "      fill: #174EA6;\n",
       "    }\n",
       "\n",
       "    [theme=dark] .colab-df-convert {\n",
       "      background-color: #3B4455;\n",
       "      fill: #D2E3FC;\n",
       "    }\n",
       "\n",
       "    [theme=dark] .colab-df-convert:hover {\n",
       "      background-color: #434B5C;\n",
       "      box-shadow: 0px 1px 3px 1px rgba(0, 0, 0, 0.15);\n",
       "      filter: drop-shadow(0px 1px 2px rgba(0, 0, 0, 0.3));\n",
       "      fill: #FFFFFF;\n",
       "    }\n",
       "  </style>\n",
       "\n",
       "      <script>\n",
       "        const buttonEl =\n",
       "          document.querySelector('#df-1b6e2888-5c66-4ad3-a693-e6b316ee11f7 button.colab-df-convert');\n",
       "        buttonEl.style.display =\n",
       "          google.colab.kernel.accessAllowed ? 'block' : 'none';\n",
       "\n",
       "        async function convertToInteractive(key) {\n",
       "          const element = document.querySelector('#df-1b6e2888-5c66-4ad3-a693-e6b316ee11f7');\n",
       "          const dataTable =\n",
       "            await google.colab.kernel.invokeFunction('convertToInteractive',\n",
       "                                                     [key], {});\n",
       "          if (!dataTable) return;\n",
       "\n",
       "          const docLinkHtml = 'Like what you see? Visit the ' +\n",
       "            '<a target=\"_blank\" href=https://colab.research.google.com/notebooks/data_table.ipynb>data table notebook</a>'\n",
       "            + ' to learn more about interactive tables.';\n",
       "          element.innerHTML = '';\n",
       "          dataTable['output_type'] = 'display_data';\n",
       "          await google.colab.output.renderOutput(dataTable, element);\n",
       "          const docLink = document.createElement('div');\n",
       "          docLink.innerHTML = docLinkHtml;\n",
       "          element.appendChild(docLink);\n",
       "        }\n",
       "      </script>\n",
       "    </div>\n",
       "  </div>\n",
       "  "
      ],
      "text/plain": [
       "   transaction_id  product_id  customer_id transaction_date  online_order  \\\n",
       "0               1           2         2950       2017-02-25           0.0   \n",
       "1               2           3         3120       2017-05-21           1.0   \n",
       "2               3          37          402       2017-10-16           0.0   \n",
       "3               4          88         3135       2017-08-31           0.0   \n",
       "4               5          78          787       2017-10-01           1.0   \n",
       "\n",
       "  order_status           brand product_line product_class product_size  \\\n",
       "0     Approved           Solex     Standard        medium       medium   \n",
       "1     Approved   Trek Bicycles     Standard        medium        large   \n",
       "2     Approved      OHM Cycles     Standard           low       medium   \n",
       "3     Approved  Norco Bicycles     Standard        medium       medium   \n",
       "4     Approved  Giant Bicycles     Standard        medium        large   \n",
       "\n",
       "   list_price  standard_cost  product_first_sold_date  \n",
       "0       71.49          53.62                  41245.0  \n",
       "1     2091.47         388.92                  41701.0  \n",
       "2     1793.43         248.82                  36361.0  \n",
       "3     1198.46         381.10                  36145.0  \n",
       "4     1765.30         709.48                  42226.0  "
      ]
     },
     "execution_count": 8,
     "metadata": {},
     "output_type": "execute_result"
    }
   ],
   "source": [
    "df.head()"
   ]
  },
  {
   "cell_type": "code",
   "execution_count": null,
   "metadata": {
    "colab": {
     "base_uri": "https://localhost:8080/"
    },
    "id": "kXhBm0t7a7is",
    "outputId": "60680da8-dfe3-4951-e63e-84fb445c8982"
   },
   "outputs": [
    {
     "data": {
      "text/plain": [
       "transaction_id               0\n",
       "product_id                   0\n",
       "customer_id                  0\n",
       "transaction_date             0\n",
       "online_order               360\n",
       "order_status                 0\n",
       "brand                      197\n",
       "product_line               197\n",
       "product_class              197\n",
       "product_size               197\n",
       "list_price                   0\n",
       "standard_cost              197\n",
       "product_first_sold_date    197\n",
       "dtype: int64"
      ]
     },
     "execution_count": 9,
     "metadata": {},
     "output_type": "execute_result"
    }
   ],
   "source": [
    "df.isnull().sum()"
   ]
  },
  {
   "cell_type": "code",
   "execution_count": null,
   "metadata": {
    "colab": {
     "base_uri": "https://localhost:8080/"
    },
    "id": "JOL1JyD9iLV8",
    "outputId": "4520ae83-5528-4f31-e27d-8e2766d116ea"
   },
   "outputs": [
    {
     "data": {
      "text/plain": [
       "0"
      ]
     },
     "execution_count": 10,
     "metadata": {},
     "output_type": "execute_result"
    }
   ],
   "source": [
    "df.duplicated().sum()"
   ]
  },
  {
   "cell_type": "code",
   "execution_count": null,
   "metadata": {
    "id": "uC8LLwDfa7cN"
   },
   "outputs": [],
   "source": [
    "add = pd.read_excel(\"CustomerAddress.xlsx\")"
   ]
  },
  {
   "cell_type": "code",
   "execution_count": null,
   "metadata": {
    "colab": {
     "base_uri": "https://localhost:8080/",
     "height": 206
    },
    "id": "2ZkDrhoBTDdo",
    "outputId": "04ac90a7-f3b5-4042-bb43-d6f160e22dbb"
   },
   "outputs": [
    {
     "data": {
      "text/html": [
       "\n",
       "  <div id=\"df-acf64429-d96d-4d63-8922-d923267cc0f1\">\n",
       "    <div class=\"colab-df-container\">\n",
       "      <div>\n",
       "<style scoped>\n",
       "    .dataframe tbody tr th:only-of-type {\n",
       "        vertical-align: middle;\n",
       "    }\n",
       "\n",
       "    .dataframe tbody tr th {\n",
       "        vertical-align: top;\n",
       "    }\n",
       "\n",
       "    .dataframe thead th {\n",
       "        text-align: right;\n",
       "    }\n",
       "</style>\n",
       "<table border=\"1\" class=\"dataframe\">\n",
       "  <thead>\n",
       "    <tr style=\"text-align: right;\">\n",
       "      <th></th>\n",
       "      <th>customer_id</th>\n",
       "      <th>address</th>\n",
       "      <th>postcode</th>\n",
       "      <th>state</th>\n",
       "      <th>country</th>\n",
       "      <th>property_valuation</th>\n",
       "    </tr>\n",
       "  </thead>\n",
       "  <tbody>\n",
       "    <tr>\n",
       "      <th>3994</th>\n",
       "      <td>3999</td>\n",
       "      <td>1482 Hauk Trail</td>\n",
       "      <td>3064</td>\n",
       "      <td>VIC</td>\n",
       "      <td>Australia</td>\n",
       "      <td>3</td>\n",
       "    </tr>\n",
       "    <tr>\n",
       "      <th>3995</th>\n",
       "      <td>4000</td>\n",
       "      <td>57042 Village Green Point</td>\n",
       "      <td>4511</td>\n",
       "      <td>QLD</td>\n",
       "      <td>Australia</td>\n",
       "      <td>6</td>\n",
       "    </tr>\n",
       "    <tr>\n",
       "      <th>3996</th>\n",
       "      <td>4001</td>\n",
       "      <td>87 Crescent Oaks Alley</td>\n",
       "      <td>2756</td>\n",
       "      <td>NSW</td>\n",
       "      <td>Australia</td>\n",
       "      <td>10</td>\n",
       "    </tr>\n",
       "    <tr>\n",
       "      <th>3997</th>\n",
       "      <td>4002</td>\n",
       "      <td>8194 Lien Street</td>\n",
       "      <td>4032</td>\n",
       "      <td>QLD</td>\n",
       "      <td>Australia</td>\n",
       "      <td>7</td>\n",
       "    </tr>\n",
       "    <tr>\n",
       "      <th>3998</th>\n",
       "      <td>4003</td>\n",
       "      <td>320 Acker Drive</td>\n",
       "      <td>2251</td>\n",
       "      <td>NSW</td>\n",
       "      <td>Australia</td>\n",
       "      <td>7</td>\n",
       "    </tr>\n",
       "  </tbody>\n",
       "</table>\n",
       "</div>\n",
       "      <button class=\"colab-df-convert\" onclick=\"convertToInteractive('df-acf64429-d96d-4d63-8922-d923267cc0f1')\"\n",
       "              title=\"Convert this dataframe to an interactive table.\"\n",
       "              style=\"display:none;\">\n",
       "        \n",
       "  <svg xmlns=\"http://www.w3.org/2000/svg\" height=\"24px\"viewBox=\"0 0 24 24\"\n",
       "       width=\"24px\">\n",
       "    <path d=\"M0 0h24v24H0V0z\" fill=\"none\"/>\n",
       "    <path d=\"M18.56 5.44l.94 2.06.94-2.06 2.06-.94-2.06-.94-.94-2.06-.94 2.06-2.06.94zm-11 1L8.5 8.5l.94-2.06 2.06-.94-2.06-.94L8.5 2.5l-.94 2.06-2.06.94zm10 10l.94 2.06.94-2.06 2.06-.94-2.06-.94-.94-2.06-.94 2.06-2.06.94z\"/><path d=\"M17.41 7.96l-1.37-1.37c-.4-.4-.92-.59-1.43-.59-.52 0-1.04.2-1.43.59L10.3 9.45l-7.72 7.72c-.78.78-.78 2.05 0 2.83L4 21.41c.39.39.9.59 1.41.59.51 0 1.02-.2 1.41-.59l7.78-7.78 2.81-2.81c.8-.78.8-2.07 0-2.86zM5.41 20L4 18.59l7.72-7.72 1.47 1.35L5.41 20z\"/>\n",
       "  </svg>\n",
       "      </button>\n",
       "      \n",
       "  <style>\n",
       "    .colab-df-container {\n",
       "      display:flex;\n",
       "      flex-wrap:wrap;\n",
       "      gap: 12px;\n",
       "    }\n",
       "\n",
       "    .colab-df-convert {\n",
       "      background-color: #E8F0FE;\n",
       "      border: none;\n",
       "      border-radius: 50%;\n",
       "      cursor: pointer;\n",
       "      display: none;\n",
       "      fill: #1967D2;\n",
       "      height: 32px;\n",
       "      padding: 0 0 0 0;\n",
       "      width: 32px;\n",
       "    }\n",
       "\n",
       "    .colab-df-convert:hover {\n",
       "      background-color: #E2EBFA;\n",
       "      box-shadow: 0px 1px 2px rgba(60, 64, 67, 0.3), 0px 1px 3px 1px rgba(60, 64, 67, 0.15);\n",
       "      fill: #174EA6;\n",
       "    }\n",
       "\n",
       "    [theme=dark] .colab-df-convert {\n",
       "      background-color: #3B4455;\n",
       "      fill: #D2E3FC;\n",
       "    }\n",
       "\n",
       "    [theme=dark] .colab-df-convert:hover {\n",
       "      background-color: #434B5C;\n",
       "      box-shadow: 0px 1px 3px 1px rgba(0, 0, 0, 0.15);\n",
       "      filter: drop-shadow(0px 1px 2px rgba(0, 0, 0, 0.3));\n",
       "      fill: #FFFFFF;\n",
       "    }\n",
       "  </style>\n",
       "\n",
       "      <script>\n",
       "        const buttonEl =\n",
       "          document.querySelector('#df-acf64429-d96d-4d63-8922-d923267cc0f1 button.colab-df-convert');\n",
       "        buttonEl.style.display =\n",
       "          google.colab.kernel.accessAllowed ? 'block' : 'none';\n",
       "\n",
       "        async function convertToInteractive(key) {\n",
       "          const element = document.querySelector('#df-acf64429-d96d-4d63-8922-d923267cc0f1');\n",
       "          const dataTable =\n",
       "            await google.colab.kernel.invokeFunction('convertToInteractive',\n",
       "                                                     [key], {});\n",
       "          if (!dataTable) return;\n",
       "\n",
       "          const docLinkHtml = 'Like what you see? Visit the ' +\n",
       "            '<a target=\"_blank\" href=https://colab.research.google.com/notebooks/data_table.ipynb>data table notebook</a>'\n",
       "            + ' to learn more about interactive tables.';\n",
       "          element.innerHTML = '';\n",
       "          dataTable['output_type'] = 'display_data';\n",
       "          await google.colab.output.renderOutput(dataTable, element);\n",
       "          const docLink = document.createElement('div');\n",
       "          docLink.innerHTML = docLinkHtml;\n",
       "          element.appendChild(docLink);\n",
       "        }\n",
       "      </script>\n",
       "    </div>\n",
       "  </div>\n",
       "  "
      ],
      "text/plain": [
       "      customer_id                    address  postcode state    country  \\\n",
       "3994         3999            1482 Hauk Trail      3064   VIC  Australia   \n",
       "3995         4000  57042 Village Green Point      4511   QLD  Australia   \n",
       "3996         4001     87 Crescent Oaks Alley      2756   NSW  Australia   \n",
       "3997         4002           8194 Lien Street      4032   QLD  Australia   \n",
       "3998         4003            320 Acker Drive      2251   NSW  Australia   \n",
       "\n",
       "      property_valuation  \n",
       "3994                   3  \n",
       "3995                   6  \n",
       "3996                  10  \n",
       "3997                   7  \n",
       "3998                   7  "
      ]
     },
     "execution_count": 17,
     "metadata": {},
     "output_type": "execute_result"
    }
   ],
   "source": [
    "add.tail()"
   ]
  },
  {
   "cell_type": "code",
   "execution_count": null,
   "metadata": {
    "colab": {
     "base_uri": "https://localhost:8080/",
     "height": 206
    },
    "id": "sEyo_1yQa7Zk",
    "outputId": "42511875-a868-4a15-d370-40cb07df1128"
   },
   "outputs": [
    {
     "data": {
      "text/html": [
       "\n",
       "  <div id=\"df-1ed221ed-1649-4dd3-8161-178df5f2065b\">\n",
       "    <div class=\"colab-df-container\">\n",
       "      <div>\n",
       "<style scoped>\n",
       "    .dataframe tbody tr th:only-of-type {\n",
       "        vertical-align: middle;\n",
       "    }\n",
       "\n",
       "    .dataframe tbody tr th {\n",
       "        vertical-align: top;\n",
       "    }\n",
       "\n",
       "    .dataframe thead th {\n",
       "        text-align: right;\n",
       "    }\n",
       "</style>\n",
       "<table border=\"1\" class=\"dataframe\">\n",
       "  <thead>\n",
       "    <tr style=\"text-align: right;\">\n",
       "      <th></th>\n",
       "      <th>customer_id</th>\n",
       "      <th>address</th>\n",
       "      <th>postcode</th>\n",
       "      <th>state</th>\n",
       "      <th>country</th>\n",
       "      <th>property_valuation</th>\n",
       "    </tr>\n",
       "  </thead>\n",
       "  <tbody>\n",
       "    <tr>\n",
       "      <th>0</th>\n",
       "      <td>1</td>\n",
       "      <td>060 Morning Avenue</td>\n",
       "      <td>2016</td>\n",
       "      <td>New South Wales</td>\n",
       "      <td>Australia</td>\n",
       "      <td>10</td>\n",
       "    </tr>\n",
       "    <tr>\n",
       "      <th>1</th>\n",
       "      <td>2</td>\n",
       "      <td>6 Meadow Vale Court</td>\n",
       "      <td>2153</td>\n",
       "      <td>New South Wales</td>\n",
       "      <td>Australia</td>\n",
       "      <td>10</td>\n",
       "    </tr>\n",
       "    <tr>\n",
       "      <th>2</th>\n",
       "      <td>4</td>\n",
       "      <td>0 Holy Cross Court</td>\n",
       "      <td>4211</td>\n",
       "      <td>QLD</td>\n",
       "      <td>Australia</td>\n",
       "      <td>9</td>\n",
       "    </tr>\n",
       "    <tr>\n",
       "      <th>3</th>\n",
       "      <td>5</td>\n",
       "      <td>17979 Del Mar Point</td>\n",
       "      <td>2448</td>\n",
       "      <td>New South Wales</td>\n",
       "      <td>Australia</td>\n",
       "      <td>4</td>\n",
       "    </tr>\n",
       "    <tr>\n",
       "      <th>4</th>\n",
       "      <td>6</td>\n",
       "      <td>9 Oakridge Court</td>\n",
       "      <td>3216</td>\n",
       "      <td>VIC</td>\n",
       "      <td>Australia</td>\n",
       "      <td>9</td>\n",
       "    </tr>\n",
       "  </tbody>\n",
       "</table>\n",
       "</div>\n",
       "      <button class=\"colab-df-convert\" onclick=\"convertToInteractive('df-1ed221ed-1649-4dd3-8161-178df5f2065b')\"\n",
       "              title=\"Convert this dataframe to an interactive table.\"\n",
       "              style=\"display:none;\">\n",
       "        \n",
       "  <svg xmlns=\"http://www.w3.org/2000/svg\" height=\"24px\"viewBox=\"0 0 24 24\"\n",
       "       width=\"24px\">\n",
       "    <path d=\"M0 0h24v24H0V0z\" fill=\"none\"/>\n",
       "    <path d=\"M18.56 5.44l.94 2.06.94-2.06 2.06-.94-2.06-.94-.94-2.06-.94 2.06-2.06.94zm-11 1L8.5 8.5l.94-2.06 2.06-.94-2.06-.94L8.5 2.5l-.94 2.06-2.06.94zm10 10l.94 2.06.94-2.06 2.06-.94-2.06-.94-.94-2.06-.94 2.06-2.06.94z\"/><path d=\"M17.41 7.96l-1.37-1.37c-.4-.4-.92-.59-1.43-.59-.52 0-1.04.2-1.43.59L10.3 9.45l-7.72 7.72c-.78.78-.78 2.05 0 2.83L4 21.41c.39.39.9.59 1.41.59.51 0 1.02-.2 1.41-.59l7.78-7.78 2.81-2.81c.8-.78.8-2.07 0-2.86zM5.41 20L4 18.59l7.72-7.72 1.47 1.35L5.41 20z\"/>\n",
       "  </svg>\n",
       "      </button>\n",
       "      \n",
       "  <style>\n",
       "    .colab-df-container {\n",
       "      display:flex;\n",
       "      flex-wrap:wrap;\n",
       "      gap: 12px;\n",
       "    }\n",
       "\n",
       "    .colab-df-convert {\n",
       "      background-color: #E8F0FE;\n",
       "      border: none;\n",
       "      border-radius: 50%;\n",
       "      cursor: pointer;\n",
       "      display: none;\n",
       "      fill: #1967D2;\n",
       "      height: 32px;\n",
       "      padding: 0 0 0 0;\n",
       "      width: 32px;\n",
       "    }\n",
       "\n",
       "    .colab-df-convert:hover {\n",
       "      background-color: #E2EBFA;\n",
       "      box-shadow: 0px 1px 2px rgba(60, 64, 67, 0.3), 0px 1px 3px 1px rgba(60, 64, 67, 0.15);\n",
       "      fill: #174EA6;\n",
       "    }\n",
       "\n",
       "    [theme=dark] .colab-df-convert {\n",
       "      background-color: #3B4455;\n",
       "      fill: #D2E3FC;\n",
       "    }\n",
       "\n",
       "    [theme=dark] .colab-df-convert:hover {\n",
       "      background-color: #434B5C;\n",
       "      box-shadow: 0px 1px 3px 1px rgba(0, 0, 0, 0.15);\n",
       "      filter: drop-shadow(0px 1px 2px rgba(0, 0, 0, 0.3));\n",
       "      fill: #FFFFFF;\n",
       "    }\n",
       "  </style>\n",
       "\n",
       "      <script>\n",
       "        const buttonEl =\n",
       "          document.querySelector('#df-1ed221ed-1649-4dd3-8161-178df5f2065b button.colab-df-convert');\n",
       "        buttonEl.style.display =\n",
       "          google.colab.kernel.accessAllowed ? 'block' : 'none';\n",
       "\n",
       "        async function convertToInteractive(key) {\n",
       "          const element = document.querySelector('#df-1ed221ed-1649-4dd3-8161-178df5f2065b');\n",
       "          const dataTable =\n",
       "            await google.colab.kernel.invokeFunction('convertToInteractive',\n",
       "                                                     [key], {});\n",
       "          if (!dataTable) return;\n",
       "\n",
       "          const docLinkHtml = 'Like what you see? Visit the ' +\n",
       "            '<a target=\"_blank\" href=https://colab.research.google.com/notebooks/data_table.ipynb>data table notebook</a>'\n",
       "            + ' to learn more about interactive tables.';\n",
       "          element.innerHTML = '';\n",
       "          dataTable['output_type'] = 'display_data';\n",
       "          await google.colab.output.renderOutput(dataTable, element);\n",
       "          const docLink = document.createElement('div');\n",
       "          docLink.innerHTML = docLinkHtml;\n",
       "          element.appendChild(docLink);\n",
       "        }\n",
       "      </script>\n",
       "    </div>\n",
       "  </div>\n",
       "  "
      ],
      "text/plain": [
       "   customer_id              address  postcode            state    country  \\\n",
       "0            1   060 Morning Avenue      2016  New South Wales  Australia   \n",
       "1            2  6 Meadow Vale Court      2153  New South Wales  Australia   \n",
       "2            4   0 Holy Cross Court      4211              QLD  Australia   \n",
       "3            5  17979 Del Mar Point      2448  New South Wales  Australia   \n",
       "4            6     9 Oakridge Court      3216              VIC  Australia   \n",
       "\n",
       "   property_valuation  \n",
       "0                  10  \n",
       "1                  10  \n",
       "2                   9  \n",
       "3                   4  \n",
       "4                   9  "
      ]
     },
     "execution_count": 15,
     "metadata": {},
     "output_type": "execute_result"
    }
   ],
   "source": [
    "add.head()"
   ]
  },
  {
   "cell_type": "code",
   "execution_count": null,
   "metadata": {
    "colab": {
     "base_uri": "https://localhost:8080/"
    },
    "id": "ry854n9hjQKQ",
    "outputId": "ed14a7ad-ba6b-4be8-e69e-bf3d95dcc6f0"
   },
   "outputs": [
    {
     "data": {
      "text/plain": [
       "customer_id           0\n",
       "address               0\n",
       "postcode              0\n",
       "state                 0\n",
       "country               0\n",
       "property_valuation    0\n",
       "dtype: int64"
      ]
     },
     "execution_count": 49,
     "metadata": {},
     "output_type": "execute_result"
    }
   ],
   "source": [
    "add.isnull().sum()"
   ]
  },
  {
   "cell_type": "code",
   "execution_count": null,
   "metadata": {
    "colab": {
     "base_uri": "https://localhost:8080/"
    },
    "id": "5fJKTl95a7MR",
    "outputId": "b53f21d5-77ed-4e8f-f075-8841e48dbef8"
   },
   "outputs": [
    {
     "data": {
      "text/plain": [
       "0"
      ]
     },
     "execution_count": 48,
     "metadata": {},
     "output_type": "execute_result"
    }
   ],
   "source": [
    "add.duplicated().sum()"
   ]
  },
  {
   "cell_type": "code",
   "execution_count": null,
   "metadata": {
    "colab": {
     "base_uri": "https://localhost:8080/"
    },
    "id": "xeA4w8dejfUb",
    "outputId": "d73793ed-f168-4f78-9369-bdbfa1d7ec06"
   },
   "outputs": [
    {
     "name": "stderr",
     "output_type": "stream",
     "text": [
      "<ipython-input-18-7817f9a83fbd>:1: FutureWarning: Inferring datetime64[ns] from data containing strings is deprecated and will be removed in a future version. To retain the old behavior explicitly pass Series(data, dtype=datetime64[ns])\n",
      "  dem = pd.read_excel(\"CustomerDemographic.xlsx\")\n"
     ]
    }
   ],
   "source": [
    "dem = pd.read_excel(\"CustomerDemographic.xlsx\")"
   ]
  },
  {
   "cell_type": "code",
   "execution_count": null,
   "metadata": {
    "colab": {
     "base_uri": "https://localhost:8080/"
    },
    "id": "1wMIjaPUdMp0",
    "outputId": "eb0f1fe2-38d8-4bf9-f3af-4734f4b6ab48"
   },
   "outputs": [
    {
     "name": "stdout",
     "output_type": "stream",
     "text": [
      "<class 'pandas.core.frame.DataFrame'>\n",
      "RangeIndex: 4000 entries, 0 to 3999\n",
      "Data columns (total 13 columns):\n",
      " #   Column                               Non-Null Count  Dtype         \n",
      "---  ------                               --------------  -----         \n",
      " 0   customer_id                          4000 non-null   int64         \n",
      " 1   first_name                           4000 non-null   object        \n",
      " 2   last_name                            3875 non-null   object        \n",
      " 3   gender                               4000 non-null   object        \n",
      " 4   past_3_years_bike_related_purchases  4000 non-null   int64         \n",
      " 5   DOB                                  3913 non-null   datetime64[ns]\n",
      " 6   job_title                            3494 non-null   object        \n",
      " 7   job_industry_category                3344 non-null   object        \n",
      " 8   wealth_segment                       4000 non-null   object        \n",
      " 9   deceased_indicator                   4000 non-null   object        \n",
      " 10  default                              3698 non-null   object        \n",
      " 11  owns_car                             4000 non-null   object        \n",
      " 12  tenure                               3913 non-null   float64       \n",
      "dtypes: datetime64[ns](1), float64(1), int64(2), object(9)\n",
      "memory usage: 406.4+ KB\n"
     ]
    }
   ],
   "source": []
  },
  {
   "cell_type": "code",
   "execution_count": null,
   "metadata": {
    "colab": {
     "base_uri": "https://localhost:8080/",
     "height": 374
    },
    "id": "AfPF3gF7jfQ_",
    "outputId": "d7da280e-cdb4-4ca5-fa7e-eca6194d3679"
   },
   "outputs": [
    {
     "data": {
      "text/html": [
       "\n",
       "  <div id=\"df-8e2ff9b6-5a1c-4b92-a7a7-41b7d1f974a8\">\n",
       "    <div class=\"colab-df-container\">\n",
       "      <div>\n",
       "<style scoped>\n",
       "    .dataframe tbody tr th:only-of-type {\n",
       "        vertical-align: middle;\n",
       "    }\n",
       "\n",
       "    .dataframe tbody tr th {\n",
       "        vertical-align: top;\n",
       "    }\n",
       "\n",
       "    .dataframe thead th {\n",
       "        text-align: right;\n",
       "    }\n",
       "</style>\n",
       "<table border=\"1\" class=\"dataframe\">\n",
       "  <thead>\n",
       "    <tr style=\"text-align: right;\">\n",
       "      <th></th>\n",
       "      <th>customer_id</th>\n",
       "      <th>first_name</th>\n",
       "      <th>last_name</th>\n",
       "      <th>gender</th>\n",
       "      <th>past_3_years_bike_related_purchases</th>\n",
       "      <th>DOB</th>\n",
       "      <th>job_title</th>\n",
       "      <th>job_industry_category</th>\n",
       "      <th>wealth_segment</th>\n",
       "      <th>deceased_indicator</th>\n",
       "      <th>default</th>\n",
       "      <th>owns_car</th>\n",
       "      <th>tenure</th>\n",
       "    </tr>\n",
       "  </thead>\n",
       "  <tbody>\n",
       "    <tr>\n",
       "      <th>0</th>\n",
       "      <td>1</td>\n",
       "      <td>Laraine</td>\n",
       "      <td>Medendorp</td>\n",
       "      <td>F</td>\n",
       "      <td>93</td>\n",
       "      <td>1953-10-12</td>\n",
       "      <td>Executive Secretary</td>\n",
       "      <td>Health</td>\n",
       "      <td>Mass Customer</td>\n",
       "      <td>N</td>\n",
       "      <td>\"'</td>\n",
       "      <td>Yes</td>\n",
       "      <td>11.0</td>\n",
       "    </tr>\n",
       "    <tr>\n",
       "      <th>1</th>\n",
       "      <td>2</td>\n",
       "      <td>Eli</td>\n",
       "      <td>Bockman</td>\n",
       "      <td>Male</td>\n",
       "      <td>81</td>\n",
       "      <td>1980-12-16</td>\n",
       "      <td>Administrative Officer</td>\n",
       "      <td>Financial Services</td>\n",
       "      <td>Mass Customer</td>\n",
       "      <td>N</td>\n",
       "      <td>&lt;script&gt;alert('hi')&lt;/script&gt;</td>\n",
       "      <td>Yes</td>\n",
       "      <td>16.0</td>\n",
       "    </tr>\n",
       "    <tr>\n",
       "      <th>2</th>\n",
       "      <td>3</td>\n",
       "      <td>Arlin</td>\n",
       "      <td>Dearle</td>\n",
       "      <td>Male</td>\n",
       "      <td>61</td>\n",
       "      <td>1954-01-20</td>\n",
       "      <td>Recruiting Manager</td>\n",
       "      <td>Property</td>\n",
       "      <td>Mass Customer</td>\n",
       "      <td>N</td>\n",
       "      <td>2018-02-01 00:00:00</td>\n",
       "      <td>Yes</td>\n",
       "      <td>15.0</td>\n",
       "    </tr>\n",
       "    <tr>\n",
       "      <th>3</th>\n",
       "      <td>4</td>\n",
       "      <td>Talbot</td>\n",
       "      <td>NaN</td>\n",
       "      <td>Male</td>\n",
       "      <td>33</td>\n",
       "      <td>1961-10-03</td>\n",
       "      <td>NaN</td>\n",
       "      <td>IT</td>\n",
       "      <td>Mass Customer</td>\n",
       "      <td>N</td>\n",
       "      <td>() { _; } &gt;_[$($())] { touch /tmp/blns.shellsh...</td>\n",
       "      <td>No</td>\n",
       "      <td>7.0</td>\n",
       "    </tr>\n",
       "    <tr>\n",
       "      <th>4</th>\n",
       "      <td>5</td>\n",
       "      <td>Sheila-kathryn</td>\n",
       "      <td>Calton</td>\n",
       "      <td>Female</td>\n",
       "      <td>56</td>\n",
       "      <td>1977-05-13</td>\n",
       "      <td>Senior Editor</td>\n",
       "      <td>NaN</td>\n",
       "      <td>Affluent Customer</td>\n",
       "      <td>N</td>\n",
       "      <td>NIL</td>\n",
       "      <td>Yes</td>\n",
       "      <td>8.0</td>\n",
       "    </tr>\n",
       "  </tbody>\n",
       "</table>\n",
       "</div>\n",
       "      <button class=\"colab-df-convert\" onclick=\"convertToInteractive('df-8e2ff9b6-5a1c-4b92-a7a7-41b7d1f974a8')\"\n",
       "              title=\"Convert this dataframe to an interactive table.\"\n",
       "              style=\"display:none;\">\n",
       "        \n",
       "  <svg xmlns=\"http://www.w3.org/2000/svg\" height=\"24px\"viewBox=\"0 0 24 24\"\n",
       "       width=\"24px\">\n",
       "    <path d=\"M0 0h24v24H0V0z\" fill=\"none\"/>\n",
       "    <path d=\"M18.56 5.44l.94 2.06.94-2.06 2.06-.94-2.06-.94-.94-2.06-.94 2.06-2.06.94zm-11 1L8.5 8.5l.94-2.06 2.06-.94-2.06-.94L8.5 2.5l-.94 2.06-2.06.94zm10 10l.94 2.06.94-2.06 2.06-.94-2.06-.94-.94-2.06-.94 2.06-2.06.94z\"/><path d=\"M17.41 7.96l-1.37-1.37c-.4-.4-.92-.59-1.43-.59-.52 0-1.04.2-1.43.59L10.3 9.45l-7.72 7.72c-.78.78-.78 2.05 0 2.83L4 21.41c.39.39.9.59 1.41.59.51 0 1.02-.2 1.41-.59l7.78-7.78 2.81-2.81c.8-.78.8-2.07 0-2.86zM5.41 20L4 18.59l7.72-7.72 1.47 1.35L5.41 20z\"/>\n",
       "  </svg>\n",
       "      </button>\n",
       "      \n",
       "  <style>\n",
       "    .colab-df-container {\n",
       "      display:flex;\n",
       "      flex-wrap:wrap;\n",
       "      gap: 12px;\n",
       "    }\n",
       "\n",
       "    .colab-df-convert {\n",
       "      background-color: #E8F0FE;\n",
       "      border: none;\n",
       "      border-radius: 50%;\n",
       "      cursor: pointer;\n",
       "      display: none;\n",
       "      fill: #1967D2;\n",
       "      height: 32px;\n",
       "      padding: 0 0 0 0;\n",
       "      width: 32px;\n",
       "    }\n",
       "\n",
       "    .colab-df-convert:hover {\n",
       "      background-color: #E2EBFA;\n",
       "      box-shadow: 0px 1px 2px rgba(60, 64, 67, 0.3), 0px 1px 3px 1px rgba(60, 64, 67, 0.15);\n",
       "      fill: #174EA6;\n",
       "    }\n",
       "\n",
       "    [theme=dark] .colab-df-convert {\n",
       "      background-color: #3B4455;\n",
       "      fill: #D2E3FC;\n",
       "    }\n",
       "\n",
       "    [theme=dark] .colab-df-convert:hover {\n",
       "      background-color: #434B5C;\n",
       "      box-shadow: 0px 1px 3px 1px rgba(0, 0, 0, 0.15);\n",
       "      filter: drop-shadow(0px 1px 2px rgba(0, 0, 0, 0.3));\n",
       "      fill: #FFFFFF;\n",
       "    }\n",
       "  </style>\n",
       "\n",
       "      <script>\n",
       "        const buttonEl =\n",
       "          document.querySelector('#df-8e2ff9b6-5a1c-4b92-a7a7-41b7d1f974a8 button.colab-df-convert');\n",
       "        buttonEl.style.display =\n",
       "          google.colab.kernel.accessAllowed ? 'block' : 'none';\n",
       "\n",
       "        async function convertToInteractive(key) {\n",
       "          const element = document.querySelector('#df-8e2ff9b6-5a1c-4b92-a7a7-41b7d1f974a8');\n",
       "          const dataTable =\n",
       "            await google.colab.kernel.invokeFunction('convertToInteractive',\n",
       "                                                     [key], {});\n",
       "          if (!dataTable) return;\n",
       "\n",
       "          const docLinkHtml = 'Like what you see? Visit the ' +\n",
       "            '<a target=\"_blank\" href=https://colab.research.google.com/notebooks/data_table.ipynb>data table notebook</a>'\n",
       "            + ' to learn more about interactive tables.';\n",
       "          element.innerHTML = '';\n",
       "          dataTable['output_type'] = 'display_data';\n",
       "          await google.colab.output.renderOutput(dataTable, element);\n",
       "          const docLink = document.createElement('div');\n",
       "          docLink.innerHTML = docLinkHtml;\n",
       "          element.appendChild(docLink);\n",
       "        }\n",
       "      </script>\n",
       "    </div>\n",
       "  </div>\n",
       "  "
      ],
      "text/plain": [
       "   customer_id      first_name  last_name  gender  \\\n",
       "0            1         Laraine  Medendorp       F   \n",
       "1            2             Eli    Bockman    Male   \n",
       "2            3           Arlin     Dearle    Male   \n",
       "3            4          Talbot        NaN    Male   \n",
       "4            5  Sheila-kathryn     Calton  Female   \n",
       "\n",
       "   past_3_years_bike_related_purchases        DOB               job_title  \\\n",
       "0                                   93 1953-10-12     Executive Secretary   \n",
       "1                                   81 1980-12-16  Administrative Officer   \n",
       "2                                   61 1954-01-20      Recruiting Manager   \n",
       "3                                   33 1961-10-03                     NaN   \n",
       "4                                   56 1977-05-13           Senior Editor   \n",
       "\n",
       "  job_industry_category     wealth_segment deceased_indicator  \\\n",
       "0                Health      Mass Customer                  N   \n",
       "1    Financial Services      Mass Customer                  N   \n",
       "2              Property      Mass Customer                  N   \n",
       "3                    IT      Mass Customer                  N   \n",
       "4                   NaN  Affluent Customer                  N   \n",
       "\n",
       "                                             default owns_car  tenure  \n",
       "0                                                 \"'      Yes    11.0  \n",
       "1                       <script>alert('hi')</script>      Yes    16.0  \n",
       "2                                2018-02-01 00:00:00      Yes    15.0  \n",
       "3  () { _; } >_[$($())] { touch /tmp/blns.shellsh...       No     7.0  \n",
       "4                                                NIL      Yes     8.0  "
      ]
     },
     "execution_count": 19,
     "metadata": {},
     "output_type": "execute_result"
    }
   ],
   "source": [
    "dem.head()"
   ]
  },
  {
   "cell_type": "code",
   "execution_count": null,
   "metadata": {
    "colab": {
     "base_uri": "https://localhost:8080/"
    },
    "id": "D2-1vv17kDHq",
    "outputId": "43e839e2-cd9d-410e-81df-f606f8e12169"
   },
   "outputs": [
    {
     "data": {
      "text/plain": [
       "Manufacturing         799\n",
       "Financial Services    774\n",
       "Health                602\n",
       "Retail                358\n",
       "Property              267\n",
       "IT                    223\n",
       "Entertainment         136\n",
       "Argiculture           113\n",
       "Telecommunications     72\n",
       "Name: job_industry_category, dtype: int64"
      ]
     },
     "execution_count": 25,
     "metadata": {},
     "output_type": "execute_result"
    }
   ],
   "source": [
    "dem['job_industry_category'].value_counts()"
   ]
  },
  {
   "cell_type": "code",
   "execution_count": null,
   "metadata": {
    "colab": {
     "base_uri": "https://localhost:8080/"
    },
    "id": "tTXCdaWmkQTM",
    "outputId": "ec3f849b-20a6-4a8b-b5ae-6621a937993a"
   },
   "outputs": [
    {
     "data": {
      "text/plain": [
       "Yes    2024\n",
       "No     1976\n",
       "Name: owns_car, dtype: int64"
      ]
     },
     "execution_count": 26,
     "metadata": {},
     "output_type": "execute_result"
    }
   ],
   "source": [
    "dem['owns_car'].value_counts()"
   ]
  },
  {
   "cell_type": "code",
   "execution_count": null,
   "metadata": {
    "colab": {
     "base_uri": "https://localhost:8080/"
    },
    "id": "_o1pN8HMlkJ9",
    "outputId": "f7368fca-9eee-42b2-f00b-29317ba987ac"
   },
   "outputs": [
    {
     "data": {
      "text/plain": [
       "Business Systems Development Analyst    45\n",
       "Tax Accountant                          44\n",
       "Social Worker                           44\n",
       "Internal Auditor                        42\n",
       "Recruiting Manager                      41\n",
       "                                        ..\n",
       "Database Administrator I                 4\n",
       "Health Coach I                           3\n",
       "Health Coach III                         3\n",
       "Research Assistant III                   3\n",
       "Developer I                              1\n",
       "Name: job_title, Length: 195, dtype: int64"
      ]
     },
     "execution_count": 27,
     "metadata": {},
     "output_type": "execute_result"
    }
   ],
   "source": [
    "dem['job_title'].value_counts()"
   ]
  },
  {
   "cell_type": "code",
   "execution_count": null,
   "metadata": {
    "colab": {
     "base_uri": "https://localhost:8080/"
    },
    "id": "T3DVTr0Jj3BY",
    "outputId": "72f49e43-1dbd-4e94-c907-7957ca414baf"
   },
   "outputs": [
    {
     "data": {
      "text/plain": [
       "0"
      ]
     },
     "execution_count": 20,
     "metadata": {},
     "output_type": "execute_result"
    }
   ],
   "source": [
    "dem.duplicated().sum()"
   ]
  },
  {
   "cell_type": "code",
   "execution_count": null,
   "metadata": {
    "colab": {
     "base_uri": "https://localhost:8080/"
    },
    "id": "WIUldraHj293",
    "outputId": "8de9486a-783c-478d-d4b8-bc838a180858"
   },
   "outputs": [
    {
     "data": {
      "text/plain": [
       "customer_id                              0\n",
       "first_name                               0\n",
       "last_name                              125\n",
       "gender                                   0\n",
       "past_3_years_bike_related_purchases      0\n",
       "DOB                                     87\n",
       "job_title                              506\n",
       "job_industry_category                  656\n",
       "wealth_segment                           0\n",
       "deceased_indicator                       0\n",
       "default                                302\n",
       "owns_car                                 0\n",
       "tenure                                  87\n",
       "dtype: int64"
      ]
     },
     "execution_count": 21,
     "metadata": {},
     "output_type": "execute_result"
    }
   ],
   "source": [
    "dem.isnull().sum()"
   ]
  },
  {
   "cell_type": "code",
   "execution_count": null,
   "metadata": {
    "colab": {
     "base_uri": "https://localhost:8080/"
    },
    "id": "ubl3oK7_j27P",
    "outputId": "3e515cba-2d55-4005-b000-f58b5560df24"
   },
   "outputs": [
    {
     "data": {
      "text/plain": [
       "Female    2037\n",
       "Male      1872\n",
       "U           88\n",
       "F            1\n",
       "Femal        1\n",
       "M            1\n",
       "Name: gender, dtype: int64"
      ]
     },
     "execution_count": 23,
     "metadata": {},
     "output_type": "execute_result"
    }
   ],
   "source": [
    "dem['gender'].value_counts()"
   ]
  }
 ],
 "metadata": {
  "colab": {
   "provenance": []
  },
  "kernelspec": {
   "display_name": "Python 3 (ipykernel)",
   "language": "python",
   "name": "python3"
  },
  "language_info": {
   "codemirror_mode": {
    "name": "ipython",
    "version": 3
   },
   "file_extension": ".py",
   "mimetype": "text/x-python",
   "name": "python",
   "nbconvert_exporter": "python",
   "pygments_lexer": "ipython3",
   "version": "3.11.0"
  }
 },
 "nbformat": 4,
 "nbformat_minor": 1
}
